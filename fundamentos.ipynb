{
 "cells": [
  {
   "cell_type": "markdown",
   "id": "dde31a79",
   "metadata": {},
   "source": [
    "# Fundamentos de Python\n",
    "* Variables\n",
    "* Operadores matemáticos\n",
    "* Operadores lógicos\n",
    "* Operadores de comparación\n",
    "* Condicionales\n",
    "    - Simples\n",
    "    - Compuestos\n",
    "    - Anidados\n",
    "    - Encadenados\n",
    "* Ciclos\n",
    "    - Finitos (for)\n",
    "    - Infinitos (while)\n",
    "* Funciones\n",
    "* Estructuras de datos\n",
    "    - Caracteres\n",
    "    - Enteros\n",
    "    - Flotantes\n",
    "    - Listas\n",
    "    - Diccionarios\n",
    "    - Tuplas\n",
    "* Fundamentos de POO"
   ]
  },
  {
   "cell_type": "code",
   "execution_count": 1,
   "id": "0bd64c2f",
   "metadata": {},
   "outputs": [
    {
     "name": "stdout",
     "output_type": "stream",
     "text": [
      "Epale\n"
     ]
    }
   ],
   "source": [
    "print(\"Epale\")"
   ]
  },
  {
   "cell_type": "code",
   "execution_count": 2,
   "id": "32bbccb3",
   "metadata": {},
   "outputs": [],
   "source": [
    "# variables\n",
    "name = \"Javier\""
   ]
  },
  {
   "cell_type": "code",
   "execution_count": 3,
   "id": "48a8b43f",
   "metadata": {},
   "outputs": [
    {
     "data": {
      "text/plain": [
       "'Javier'"
      ]
     },
     "execution_count": 3,
     "metadata": {},
     "output_type": "execute_result"
    }
   ],
   "source": [
    "name"
   ]
  },
  {
   "cell_type": "code",
   "execution_count": 4,
   "id": "02e1a7d4",
   "metadata": {},
   "outputs": [],
   "source": [
    "last_name = \"Gonzalez\""
   ]
  },
  {
   "cell_type": "code",
   "execution_count": 5,
   "id": "77a9ce3b",
   "metadata": {},
   "outputs": [],
   "source": [
    "LastName = \"Primero\""
   ]
  },
  {
   "cell_type": "code",
   "execution_count": 6,
   "id": "41e6ed60",
   "metadata": {},
   "outputs": [
    {
     "ename": "SyntaxError",
     "evalue": "cannot assign to expression here. Maybe you meant '==' instead of '='? (906108882.py, line 1)",
     "output_type": "error",
     "traceback": [
      "  \u001b[36mCell\u001b[39m\u001b[36m \u001b[39m\u001b[32mIn[6]\u001b[39m\u001b[32m, line 1\u001b[39m\n\u001b[31m    \u001b[39m\u001b[31mlast-name = \"primero\"\u001b[39m\n    ^\n\u001b[31mSyntaxError\u001b[39m\u001b[31m:\u001b[39m cannot assign to expression here. Maybe you meant '==' instead of '='?\n"
     ]
    }
   ],
   "source": [
    "last-name = \"primero\""
   ]
  },
  {
   "cell_type": "code",
   "execution_count": 7,
   "id": "d6926e82",
   "metadata": {},
   "outputs": [
    {
     "ename": "NameError",
     "evalue": "name 'last' is not defined",
     "output_type": "error",
     "traceback": [
      "\u001b[31m---------------------------------------------------------------------------\u001b[39m",
      "\u001b[31mNameError\u001b[39m                                 Traceback (most recent call last)",
      "\u001b[36mCell\u001b[39m\u001b[36m \u001b[39m\u001b[32mIn[7]\u001b[39m\u001b[32m, line 1\u001b[39m\n\u001b[32m----> \u001b[39m\u001b[32m1\u001b[39m \u001b[43mlast\u001b[49m.name = \u001b[33m\"\u001b[39m\u001b[33mprimero\u001b[39m\u001b[33m\"\u001b[39m\n",
      "\u001b[31mNameError\u001b[39m: name 'last' is not defined"
     ]
    }
   ],
   "source": [
    "last.name = \"primero\""
   ]
  },
  {
   "cell_type": "code",
   "execution_count": 8,
   "id": "60c1fac0",
   "metadata": {},
   "outputs": [],
   "source": [
    "# operadores matematicos\n",
    "suma = 2 + 2\n",
    "resta = 2 - 2\n",
    "multiplicacion = 2 * 2\n",
    "division = 2 / 2"
   ]
  },
  {
   "cell_type": "code",
   "execution_count": 14,
   "id": "effc7b3d",
   "metadata": {},
   "outputs": [],
   "source": [
    "number1 = 12\n",
    "number2 = 20.33"
   ]
  },
  {
   "cell_type": "code",
   "execution_count": 16,
   "id": "05b1738d",
   "metadata": {},
   "outputs": [],
   "source": [
    "suma = number1 + number2\n",
    "resta = number1 - number2\n",
    "multiplicacion = number1 * number2\n",
    "division = number1 / number2"
   ]
  },
  {
   "cell_type": "code",
   "execution_count": 17,
   "id": "fd3d4838",
   "metadata": {},
   "outputs": [
    {
     "name": "stdout",
     "output_type": "stream",
     "text": [
      "32.33\n",
      "-8.329999999999998\n"
     ]
    }
   ],
   "source": [
    "print(suma)\n",
    "print(resta)"
   ]
  },
  {
   "cell_type": "code",
   "execution_count": 21,
   "id": "d790e6ad",
   "metadata": {},
   "outputs": [
    {
     "name": "stdout",
     "output_type": "stream",
     "text": [
      "El resultado de la suma es: 32.33\n",
      "resta: -8.329999999999998\n",
      "multiplicacion: 243.95999999999998\n",
      "division: 0.5902606984751599\n"
     ]
    }
   ],
   "source": [
    "print(f\"El resultado de la suma es: {suma}\")\n",
    "print(f\"resta: {resta}\")\n",
    "print (f\"multiplicacion: {multiplicacion}\")\n",
    "print (f\"division: {division}\")"
   ]
  },
  {
   "cell_type": "code",
   "execution_count": null,
   "id": "c4f09d94",
   "metadata": {},
   "outputs": [],
   "source": [
    "# operadores de comparacion\n",
    "# igual a ==\n",
    "# mayor que >\n",
    "# menor que <\n",
    "# mayor o igual que >=\n",
    "# menor o igual que <=\n",
    "# diferente !="
   ]
  },
  {
   "cell_type": "code",
   "execution_count": 22,
   "id": "9159d742",
   "metadata": {},
   "outputs": [
    {
     "data": {
      "text/plain": [
       "True"
      ]
     },
     "execution_count": 22,
     "metadata": {},
     "output_type": "execute_result"
    }
   ],
   "source": [
    "3 > 2"
   ]
  },
  {
   "cell_type": "code",
   "execution_count": 23,
   "id": "57ced92d",
   "metadata": {},
   "outputs": [
    {
     "data": {
      "text/plain": [
       "False"
      ]
     },
     "execution_count": 23,
     "metadata": {},
     "output_type": "execute_result"
    }
   ],
   "source": [
    "3 != 3"
   ]
  },
  {
   "cell_type": "code",
   "execution_count": 24,
   "id": "fe781bca",
   "metadata": {},
   "outputs": [
    {
     "data": {
      "text/plain": [
       "False"
      ]
     },
     "execution_count": 24,
     "metadata": {},
     "output_type": "execute_result"
    }
   ],
   "source": [
    "number1 == number2"
   ]
  },
  {
   "cell_type": "code",
   "execution_count": 28,
   "id": "b935e813",
   "metadata": {},
   "outputs": [
    {
     "name": "stdout",
     "output_type": "stream",
     "text": [
      "12\n",
      "20.33\n",
      "number1 es menor que number2\n"
     ]
    }
   ],
   "source": [
    "# condicionales\n",
    "print(number1)\n",
    "print(number2)\n",
    "\n",
    "if number1 < number2:\n",
    "    print(\"number1 es menor que number2\")"
   ]
  },
  {
   "cell_type": "code",
   "execution_count": 30,
   "id": "5df7e815",
   "metadata": {},
   "outputs": [
    {
     "name": "stdout",
     "output_type": "stream",
     "text": [
      "12\n",
      "20.33\n",
      "number1 no es mayor que number2\n"
     ]
    }
   ],
   "source": [
    "# condicionales\n",
    "print(number1)\n",
    "print(number2)\n",
    "\n",
    "if number1 > number2:\n",
    "    print(\"number1 es mayor que number2\")\n",
    "else:\n",
    "    print(\"number1 no es mayor que number2\")"
   ]
  },
  {
   "cell_type": "code",
   "execution_count": 33,
   "id": "3082b7af",
   "metadata": {},
   "outputs": [
    {
     "name": "stdout",
     "output_type": "stream",
     "text": [
      "number1 es igual que number2\n"
     ]
    }
   ],
   "source": [
    "# condicionales\n",
    "number1 = 12\n",
    "number2 = 12\n",
    "\n",
    "if number1 > number2:\n",
    "    print(\"number1 es mayor que number2\")\n",
    "elif number1 < number2:\n",
    "    print(\"number1 es menor que number2\")\n",
    "elif number1 == number2:\n",
    "    print(\"number1 es igual que number2\")"
   ]
  },
  {
   "cell_type": "code",
   "execution_count": 34,
   "id": "78055d79",
   "metadata": {},
   "outputs": [
    {
     "name": "stdout",
     "output_type": "stream",
     "text": [
      "number1 es mayor que number2\n",
      "number1 es mayor que 10\n"
     ]
    }
   ],
   "source": [
    "# condicionales\n",
    "number1 = 14\n",
    "number2 = 12\n",
    "\n",
    "if number1 > number2:\n",
    "    if number1 > 10:\n",
    "        print(\"number1 es mayor que number2\")\n",
    "        print(\"number1 es mayor que 10\")"
   ]
  },
  {
   "cell_type": "code",
   "execution_count": 35,
   "id": "a29d354c",
   "metadata": {},
   "outputs": [
    {
     "name": "stdout",
     "output_type": "stream",
     "text": [
      "number1 es mayor que number2\n",
      "number1 es mayor que 10\n"
     ]
    }
   ],
   "source": [
    "# condicionales\n",
    "number1 = 14\n",
    "number2 = 12\n",
    "\n",
    "if (number1 > number2) and (number1 > 10):\n",
    "    print(\"number1 es mayor que number2\")\n",
    "    print(\"number1 es mayor que 10\")"
   ]
  },
  {
   "cell_type": "code",
   "execution_count": 43,
   "id": "f61201f6",
   "metadata": {},
   "outputs": [
    {
     "name": "stdout",
     "output_type": "stream",
     "text": [
      "number1 es mayor que number2\n"
     ]
    }
   ],
   "source": [
    "# condicionales\n",
    "number1 = 14\n",
    "number2 = 12.45\n",
    "\n",
    "if number1 > number2:\n",
    "    if number1 > 10:\n",
    "        print(\"number1 es mayor que number2\")\n",
    "    else:\n",
    "        print(\"number1 no es mayor que number2\")\n",
    "else:\n",
    "    print(\"number1 no es mayor que number2\")"
   ]
  },
  {
   "cell_type": "code",
   "execution_count": 44,
   "id": "5914525c",
   "metadata": {},
   "outputs": [],
   "source": [
    "# Estructuras de datos\n",
    "# strings\n",
    "name = \"josefino\""
   ]
  },
  {
   "cell_type": "code",
   "execution_count": 45,
   "id": "259d3395",
   "metadata": {},
   "outputs": [
    {
     "data": {
      "text/plain": [
       "str"
      ]
     },
     "execution_count": 45,
     "metadata": {},
     "output_type": "execute_result"
    }
   ],
   "source": [
    "type(name)"
   ]
  },
  {
   "cell_type": "code",
   "execution_count": 46,
   "id": "c18ac093",
   "metadata": {},
   "outputs": [
    {
     "data": {
      "text/plain": [
       "'Josefino'"
      ]
     },
     "execution_count": 46,
     "metadata": {},
     "output_type": "execute_result"
    }
   ],
   "source": [
    "name.capitalize()"
   ]
  },
  {
   "cell_type": "code",
   "execution_count": 47,
   "id": "64049ddc",
   "metadata": {},
   "outputs": [
    {
     "data": {
      "text/plain": [
       "int"
      ]
     },
     "execution_count": 47,
     "metadata": {},
     "output_type": "execute_result"
    }
   ],
   "source": [
    "type(number1)"
   ]
  },
  {
   "cell_type": "code",
   "execution_count": 48,
   "id": "963a8e6b",
   "metadata": {},
   "outputs": [
    {
     "data": {
      "text/plain": [
       "float"
      ]
     },
     "execution_count": 48,
     "metadata": {},
     "output_type": "execute_result"
    }
   ],
   "source": [
    "type(number2)"
   ]
  },
  {
   "cell_type": "code",
   "execution_count": 49,
   "id": "c4c9f1d9",
   "metadata": {},
   "outputs": [],
   "source": [
    "# listas\n",
    "name_list = [\"jose\", \"javier\", \"josefino\", \"josefina\"]"
   ]
  },
  {
   "cell_type": "code",
   "execution_count": 50,
   "id": "4a98676f",
   "metadata": {},
   "outputs": [],
   "source": [
    "age_list = [20, 30, 40, 50]"
   ]
  },
  {
   "cell_type": "code",
   "execution_count": 51,
   "id": "42635868",
   "metadata": {},
   "outputs": [],
   "source": [
    "name_list.append(\"ruperto\")"
   ]
  },
  {
   "cell_type": "code",
   "execution_count": 52,
   "id": "736d0a4c",
   "metadata": {},
   "outputs": [
    {
     "data": {
      "text/plain": [
       "['jose', 'javier', 'josefino', 'josefina', 'ruperto']"
      ]
     },
     "execution_count": 52,
     "metadata": {},
     "output_type": "execute_result"
    }
   ],
   "source": [
    "name_list"
   ]
  },
  {
   "cell_type": "code",
   "execution_count": 53,
   "id": "26876bc5",
   "metadata": {},
   "outputs": [],
   "source": [
    "age_list2 = [\n",
    "    23,\n",
    "    32,\n",
    "    45,\n",
    "    50\n",
    "]"
   ]
  },
  {
   "cell_type": "code",
   "execution_count": 54,
   "id": "29ac32ea",
   "metadata": {},
   "outputs": [
    {
     "data": {
      "text/plain": [
       "['jose', 'javier', 'josefino', 'josefina', 'ruperto']"
      ]
     },
     "execution_count": 54,
     "metadata": {},
     "output_type": "execute_result"
    }
   ],
   "source": [
    "name_list"
   ]
  },
  {
   "cell_type": "code",
   "execution_count": 55,
   "id": "2cd0d2e4",
   "metadata": {},
   "outputs": [
    {
     "data": {
      "text/plain": [
       "'javier'"
      ]
     },
     "execution_count": 55,
     "metadata": {},
     "output_type": "execute_result"
    }
   ],
   "source": [
    "name_list [1]"
   ]
  },
  {
   "cell_type": "code",
   "execution_count": 56,
   "id": "ab9db064",
   "metadata": {},
   "outputs": [
    {
     "data": {
      "text/plain": [
       "'josefina'"
      ]
     },
     "execution_count": 56,
     "metadata": {},
     "output_type": "execute_result"
    }
   ],
   "source": [
    "name_list [3]"
   ]
  },
  {
   "cell_type": "code",
   "execution_count": 57,
   "id": "025205af",
   "metadata": {},
   "outputs": [
    {
     "data": {
      "text/plain": [
       "'ruperto'"
      ]
     },
     "execution_count": 57,
     "metadata": {},
     "output_type": "execute_result"
    }
   ],
   "source": [
    "name_list [-1]"
   ]
  },
  {
   "cell_type": "code",
   "execution_count": 58,
   "id": "03bd9e45",
   "metadata": {},
   "outputs": [
    {
     "data": {
      "text/plain": [
       "'jose'"
      ]
     },
     "execution_count": 58,
     "metadata": {},
     "output_type": "execute_result"
    }
   ],
   "source": [
    "name_list [0]"
   ]
  },
  {
   "cell_type": "code",
   "execution_count": 63,
   "id": "c299df78",
   "metadata": {},
   "outputs": [
    {
     "data": {
      "text/plain": [
       "['jose', 'josefino']"
      ]
     },
     "execution_count": 63,
     "metadata": {},
     "output_type": "execute_result"
    }
   ],
   "source": [
    "# slice de una lista\n",
    "name_list [0:4:2]"
   ]
  },
  {
   "cell_type": "code",
   "execution_count": 64,
   "id": "322198d7",
   "metadata": {},
   "outputs": [
    {
     "data": {
      "text/plain": [
       "5"
      ]
     },
     "execution_count": 64,
     "metadata": {},
     "output_type": "execute_result"
    }
   ],
   "source": [
    "len(name_list)"
   ]
  },
  {
   "cell_type": "code",
   "execution_count": 67,
   "id": "b56b115c",
   "metadata": {},
   "outputs": [
    {
     "name": "stdout",
     "output_type": "stream",
     "text": [
      "jose\n",
      "javier\n",
      "josefino\n",
      "josefina\n",
      "ruperto\n"
     ]
    }
   ],
   "source": [
    "# ciclos finitos\n",
    "for name in name_list:\n",
    "    print(name)"
   ]
  },
  {
   "cell_type": "code",
   "execution_count": 69,
   "id": "67b38c63",
   "metadata": {},
   "outputs": [
    {
     "name": "stdout",
     "output_type": "stream",
     "text": [
      "4\n"
     ]
    }
   ],
   "source": [
    "# ciclos finitos\n",
    "for name in name_list:\n",
    "    if name == \"ruperto\":\n",
    "        # imprime la posicion de la lista\n",
    "        print(name_list.index(name))"
   ]
  },
  {
   "cell_type": "code",
   "execution_count": 76,
   "id": "223a2bbe",
   "metadata": {},
   "outputs": [
    {
     "name": "stdout",
     "output_type": "stream",
     "text": [
      "ruperto\n",
      "4\n"
     ]
    }
   ],
   "source": [
    "# recorrido de una lista por indices\n",
    "for item in range(len(name_list)):\n",
    "    if name_list[item] == \"ruperto\":\n",
    "        #imprime la posicion de la lista\n",
    "        print(name_list[item])\n",
    "        print(item)"
   ]
  },
  {
   "cell_type": "code",
   "execution_count": 79,
   "id": "b971f639",
   "metadata": {},
   "outputs": [
    {
     "name": "stdout",
     "output_type": "stream",
     "text": [
      "1\n",
      "2\n",
      "3\n",
      "4\n",
      "5\n",
      "6\n",
      "7\n",
      "8\n",
      "9\n",
      "10\n"
     ]
    }
   ],
   "source": [
    "# rango de valores con range\n",
    "for i in range(1,11):\n",
    "    print(i)"
   ]
  },
  {
   "cell_type": "markdown",
   "id": "6950f841",
   "metadata": {},
   "source": [
    "### Funciones en python"
   ]
  },
  {
   "cell_type": "code",
   "execution_count": 2,
   "id": "d2834104",
   "metadata": {},
   "outputs": [],
   "source": [
    "def saludos():\n",
    "    print(\"Hola\")"
   ]
  },
  {
   "cell_type": "code",
   "execution_count": 4,
   "id": "64d06b7f",
   "metadata": {},
   "outputs": [
    {
     "name": "stdout",
     "output_type": "stream",
     "text": [
      "Hola\n"
     ]
    }
   ],
   "source": [
    "saludos()"
   ]
  },
  {
   "cell_type": "code",
   "execution_count": 5,
   "id": "cff73094",
   "metadata": {},
   "outputs": [],
   "source": [
    "# función que salude a un nombre\n",
    "def saludos(name):\n",
    "    print(f\"Hola {name}\")"
   ]
  },
  {
   "cell_type": "code",
   "execution_count": 7,
   "id": "a519e8c5",
   "metadata": {},
   "outputs": [
    {
     "name": "stdout",
     "output_type": "stream",
     "text": [
      "Hola josefino\n"
     ]
    }
   ],
   "source": [
    "saludos(\"josefino\")"
   ]
  },
  {
   "cell_type": "code",
   "execution_count": 8,
   "id": "1211be6b",
   "metadata": {},
   "outputs": [],
   "source": [
    "# función que sume 2 números\n",
    "def suma(number1, number2):\n",
    "    return number1 + number2\n"
   ]
  },
  {
   "cell_type": "code",
   "execution_count": 9,
   "id": "a48a38d7",
   "metadata": {},
   "outputs": [
    {
     "data": {
      "text/plain": [
       "5"
      ]
     },
     "execution_count": 9,
     "metadata": {},
     "output_type": "execute_result"
    }
   ],
   "source": [
    "suma(2, 3)"
   ]
  },
  {
   "cell_type": "code",
   "execution_count": 10,
   "id": "adf61cb5",
   "metadata": {},
   "outputs": [],
   "source": [
    "# función para calcular la altura de un triángulo\n",
    "def area_triangulo(base, altura):\n",
    "    return (base * altura) / 2"
   ]
  },
  {
   "cell_type": "code",
   "execution_count": 11,
   "id": "1e1cc46c",
   "metadata": {},
   "outputs": [
    {
     "data": {
      "text/plain": [
       "3.0"
      ]
     },
     "execution_count": 11,
     "metadata": {},
     "output_type": "execute_result"
    }
   ],
   "source": [
    "area_triangulo(2, 3)"
   ]
  },
  {
   "cell_type": "code",
   "execution_count": 12,
   "id": "26bb3b1d",
   "metadata": {},
   "outputs": [
    {
     "data": {
      "text/plain": [
       "3.0"
      ]
     },
     "execution_count": 12,
     "metadata": {},
     "output_type": "execute_result"
    }
   ],
   "source": [
    "area_triangulo(base=3, altura=2)"
   ]
  },
  {
   "cell_type": "code",
   "execution_count": 13,
   "id": "96a1b503",
   "metadata": {},
   "outputs": [
    {
     "data": {
      "text/plain": [
       "3.0"
      ]
     },
     "execution_count": 13,
     "metadata": {},
     "output_type": "execute_result"
    }
   ],
   "source": [
    "area_triangulo(altura=2, base=3)"
   ]
  },
  {
   "cell_type": "code",
   "execution_count": 14,
   "id": "620fe77f",
   "metadata": {},
   "outputs": [],
   "source": [
    "# función con argumentos por defecto\n",
    "def area_triangulo(base=2, altura=3):\n",
    "    return (base * altura) / 2"
   ]
  },
  {
   "cell_type": "code",
   "execution_count": 18,
   "id": "59125df1",
   "metadata": {},
   "outputs": [
    {
     "data": {
      "text/plain": [
       "7.5"
      ]
     },
     "execution_count": 18,
     "metadata": {},
     "output_type": "execute_result"
    }
   ],
   "source": [
    "area_triangulo(5, 3)"
   ]
  },
  {
   "cell_type": "code",
   "execution_count": 19,
   "id": "527a9f9a",
   "metadata": {},
   "outputs": [],
   "source": [
    "# documentación de una función\n",
    "def area_triangulo3(base=2, altura=3):\n",
    "    \"\"\"\n",
    "    Esta función calcula el área de un triángulo\n",
    "    :param base: base del triángulo\n",
    "    :param altura: altura del triángulo\n",
    "    :return: área del triángulo\n",
    "    \"\"\"\n",
    "    return (base * altura) / 2"
   ]
  },
  {
   "cell_type": "code",
   "execution_count": 20,
   "id": "1c6d83b5",
   "metadata": {},
   "outputs": [
    {
     "data": {
      "text/plain": [
       "3.0"
      ]
     },
     "execution_count": 20,
     "metadata": {},
     "output_type": "execute_result"
    }
   ],
   "source": [
    "area_triangulo3()"
   ]
  },
  {
   "cell_type": "code",
   "execution_count": 21,
   "id": "9f0b14a7",
   "metadata": {},
   "outputs": [],
   "source": [
    "# documentación de una función\n",
    "def area_triangulo4(base=float, altura=float) -> float:\n",
    "    \"\"\"\n",
    "    Esta función calcula el área de un triángulo\n",
    "    :param base: base del triángulo float o int\n",
    "    :param altura: altura del triángulo float o int\n",
    "    :return: área del triángulo float\n",
    "    \"\"\"\n",
    "    return (base * altura) / 2"
   ]
  },
  {
   "cell_type": "code",
   "execution_count": null,
   "id": "d0e702fc",
   "metadata": {},
   "outputs": [],
   "source": []
  },
  {
   "cell_type": "code",
   "execution_count": 24,
   "id": "af7b5b7d",
   "metadata": {},
   "outputs": [
    {
     "data": {
      "text/plain": [
       "3.0"
      ]
     },
     "execution_count": 24,
     "metadata": {},
     "output_type": "execute_result"
    }
   ],
   "source": [
    "area_triangulo4(2,3)"
   ]
  },
  {
   "cell_type": "code",
   "execution_count": 25,
   "id": "114e28c4",
   "metadata": {},
   "outputs": [
    {
     "data": {
      "text/plain": [
       "4.2"
      ]
     },
     "execution_count": 25,
     "metadata": {},
     "output_type": "execute_result"
    }
   ],
   "source": [
    "area_triangulo4(2.4,3.5)"
   ]
  },
  {
   "cell_type": "code",
   "execution_count": 26,
   "id": "c1f0e8d4",
   "metadata": {},
   "outputs": [
    {
     "data": {
      "text/plain": [
       "4.2"
      ]
     },
     "execution_count": 26,
     "metadata": {},
     "output_type": "execute_result"
    }
   ],
   "source": [
    "area_triangulo4(altura=3.5, base=2.4)"
   ]
  },
  {
   "cell_type": "code",
   "execution_count": null,
   "id": "19e4cfa6",
   "metadata": {},
   "outputs": [],
   "source": []
  }
 ],
 "metadata": {
  "kernelspec": {
   "display_name": "Python 3",
   "language": "python",
   "name": "python3"
  },
  "language_info": {
   "codemirror_mode": {
    "name": "ipython",
    "version": 3
   },
   "file_extension": ".py",
   "mimetype": "text/x-python",
   "name": "python",
   "nbconvert_exporter": "python",
   "pygments_lexer": "ipython3",
   "version": "3.13.3"
  }
 },
 "nbformat": 4,
 "nbformat_minor": 5
}
